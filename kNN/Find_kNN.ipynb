{
 "cells": [
  {
   "cell_type": "code",
   "execution_count": 3,
   "id": "ad64fc2f-b108-4ac7-8cae-234f8b507113",
   "metadata": {},
   "outputs": [],
   "source": [
    "# Import necessary libraries\n",
    "import numpy as np\n",
    "import pandas as pd \n",
    "import matplotlib.pyplot as plt\n",
    "from sklearn.utils import shuffle\n",
    "from sklearn.metrics import r2_score\n",
    "from sklearn.metrics import mean_squared_error\n",
    "from sklearn.neighbors import KNeighborsRegressor\n",
    "from sklearn.model_selection import train_test_split\n",
    "%matplotlib inline"
   ]
  },
  {
   "cell_type": "code",
   "execution_count": 1,
   "id": "9f0766a1-caed-4f64-811a-c01f2b470267",
   "metadata": {},
   "outputs": [
    {
     "name": "stdout",
     "output_type": "stream",
     "text": [
      "Defaulting to user installation because normal site-packages is not writeable\n",
      "Collecting scikit-learn\n",
      "  Using cached scikit_learn-1.5.1-cp310-cp310-manylinux_2_17_x86_64.manylinux2014_x86_64.whl (13.4 MB)\n",
      "Collecting joblib>=1.2.0\n",
      "  Using cached joblib-1.4.2-py3-none-any.whl (301 kB)\n",
      "Collecting scipy>=1.6.0\n",
      "  Downloading scipy-1.14.1-cp310-cp310-manylinux_2_17_x86_64.manylinux2014_x86_64.whl (41.2 MB)\n",
      "\u001b[2K     \u001b[38;2;114;156;31m━━━━━━━━━━━━━━━━━━━━━━━━━━━━━━━━━━━━━━━\u001b[0m \u001b[32m41.2/41.2 MB\u001b[0m \u001b[31m319.8 kB/s\u001b[0m eta \u001b[36m0:00:00\u001b[0mm eta \u001b[36m0:00:01\u001b[0m[36m0:00:04\u001b[0m\n",
      "\u001b[?25hRequirement already satisfied: numpy>=1.19.5 in /home/sxamoecode/.local/lib/python3.10/site-packages (from scikit-learn) (2.1.0)\n",
      "Collecting threadpoolctl>=3.1.0\n",
      "  Using cached threadpoolctl-3.5.0-py3-none-any.whl (18 kB)\n",
      "Installing collected packages: threadpoolctl, scipy, joblib, scikit-learn\n",
      "Successfully installed joblib-1.4.2 scikit-learn-1.5.1 scipy-1.14.1 threadpoolctl-3.5.0\n",
      "Note: you may need to restart the kernel to use updated packages.\n"
     ]
    }
   ],
   "source": [
    "pip install scikit-learn"
   ]
  },
  {
   "cell_type": "code",
   "execution_count": 6,
   "id": "6d878545-1ff1-4b04-bc11-e59657052b94",
   "metadata": {},
   "outputs": [],
   "source": [
    "# Reading the standard Advertising dataset\n",
    "# Read the file 'Advertising.csv' into a Pandas dataset\n",
    "df = pd.read_csv('Advertising.csv')"
   ]
  },
  {
   "cell_type": "code",
   "execution_count": null,
   "id": "3486caa6-dce9-4a9d-8b70-25cf46973896",
   "metadata": {},
   "outputs": [],
   "source": [
    "# Take a quick look at the data\n",
    "df.head()"
   ]
  },
  {
   "cell_type": "code",
   "execution_count": null,
   "id": "bed17b88-d9a6-4c98-96bc-75933daa4951",
   "metadata": {},
   "outputs": [],
   "source": [
    "# Set the 'TV' column as predictor variable\n",
    "x = df[['TV']].values\n",
    "# Set the 'Sales' column as response variable \n",
    "y = df['Sales'].values"
   ]
  },
  {
   "cell_type": "code",
   "execution_count": null,
   "id": "aeb65bca-334c-4c05-b30a-1eba6430189f",
   "metadata": {},
   "outputs": [],
   "source": [
    "# Train-Test split\n",
    "### edTest(test_shape) ###\n",
    "# Split the dataset in training and testing with 60% training set and \n",
    "# 40% testing set \n",
    "x_train, x_test, y_train, y_test = train_test_split(x,y,train_size=0.6,random_state=66)\n",
    "x_test"
   ]
  },
  {
   "cell_type": "code",
   "execution_count": 10,
   "id": "04c26d87-2b24-4149-8ea6-ef50fa412610",
   "metadata": {},
   "outputs": [
    {
     "name": "stdout",
     "output_type": "stream",
     "text": [
      "[0.   0.25 0.5  0.75 1.  ]\n"
     ]
    }
   ],
   "source": [
    "#np.linspace(0, 1, 5)\n",
    "### edTest(test_nums) ###\n",
    "# Choosing k range from 1 to 70\n",
    "k_value_min = 1\n",
    "k_value_max = 70\n",
    "\n",
    "# Create a list of integer k values between k_value_min and \n",
    "# k_value_max using linspace\n",
    "k_list = np.linspace(k_value_min,k_value_max,num=70,dtype=int)"
   ]
  },
  {
   "cell_type": "code",
   "execution_count": null,
   "id": "c917ce5d-ed73-4d49-9ba9-9cc14941d582",
   "metadata": {},
   "outputs": [],
   "source": [
    "# Model Fit\n",
    "# Setup a grid for plotting the data and predictions\n",
    "fig, ax = plt.subplots(figsize=(10,6))\n",
    "\n",
    "# Create a dictionary to store the k value against MSE fit {k: MSE@k} \n",
    "knn_dict = {}\n",
    "\n",
    "# Variable used for altering the linewidth of values kNN models\n",
    "j=0\n",
    "\n",
    "# Loop over all k values\n",
    "for k_value in k_list:   \n",
    "    \n",
    "    # Create a KNN Regression model for the current k\n",
    "    model = KNeighborsRegressor(n_neighbors=int(k_value))\n",
    "    \n",
    "    # Fit the model on the train data\n",
    "    model.fit(x_train,y_train)\n",
    "    \n",
    "    # Use the trained model to predict on the test data\n",
    "    y_pred = model.predict(x_test)\n",
    "    \n",
    "    # Calculate the MSE of the test data predictions\n",
    "    MSE = mean_squared_error(y_test, y_pred)\n",
    "\n",
    "    # Store the MSE values of each k value in the dictionary\n",
    "    knn_dict[k_value] = MSE\n",
    "\n",
    "    \n",
    "    \n",
    "    # Helper code to plot the data and various kNN model predictions\n",
    "    colors = ['grey','r','b']\n",
    "    if k_value in [1,10,70]:\n",
    "        xvals = np.linspace(x.min(),x.max(),100).reshape(-1, 1)\n",
    "        ypreds = model.predict(xvals)\n",
    "        ax.plot(xvals, ypreds,'-',label = f'k = {int(k_value)}',linewidth=j+2,color = colors[j])\n",
    "        j+=1\n",
    "        \n",
    "ax.legend(loc='lower right',fontsize=20)\n",
    "ax.plot(x_train, y_train,'x',label='test',color='k')\n",
    "ax.set_xlabel('TV budget in $1000',fontsize=20)\n",
    "ax.set_ylabel('Sales in $1000',fontsize=20)\n",
    "plt.tight_layout()"
   ]
  },
  {
   "cell_type": "code",
   "execution_count": null,
   "id": "0b19cbca-d9c3-4583-bb5e-21c05dad50c0",
   "metadata": {},
   "outputs": [],
   "source": [
    "# Graph Plot\n",
    "# Plot a graph which depicts the relation between the k values and MSE\n",
    "plt.figure(figsize=(8,6))\n",
    "plt.plot(knn_dict.keys(), knn_dict.values(),'k.-',alpha=0.5,linewidth=2)\n",
    "\n",
    "# Set the title and axis labels\n",
    "plt.xlabel('k',fontsize=20)\n",
    "plt.ylabel('MSE',fontsize = 20)\n",
    "plt.title('Test $MSE$ values for different k values - KNN regression',fontsize=20)\n",
    "plt.tight_layout()"
   ]
  },
  {
   "cell_type": "code",
   "execution_count": null,
   "id": "fb0b3a32-8792-49da-bdc2-5cef6f56730f",
   "metadata": {},
   "outputs": [],
   "source": [
    "# Find best knn Model\n",
    "### edTest(test_mse) ###\n",
    "\n",
    "# Find the lowest MSE among all the kNN models\n",
    "min_mse = min(knn_dict.values())\n",
    "\n",
    "# Use list comprehensions to find the k value associated with the lowest MSE\n",
    "best_model = [key  for (key, value) in knn_dict.items() if value == min_mse]\n",
    "\n",
    "# Print the best k-value\n",
    "print (\"The best k value is \",best_model,\"with a MSE of \", min_mse)"
   ]
  },
  {
   "cell_type": "code",
   "execution_count": null,
   "id": "569fcd95-c625-4875-8236-eebd83e471af",
   "metadata": {},
   "outputs": [],
   "source": [
    "From the options below, how would you classify the \"goodness\" of your model?\n",
    "A. Good\n",
    "B. Satisfactory\n",
    "C. Bad"
   ]
  },
  {
   "cell_type": "code",
   "execution_count": null,
   "id": "f7ce95d8-e015-4f7e-98a3-fc510e85aedf",
   "metadata": {},
   "outputs": [],
   "source": [
    "### edTest(test_chow1) ###\n",
    "# Submit an answer choice as a string below (eg. if you choose option A, put 'A')\n",
    "answer1 = 'B'"
   ]
  },
  {
   "cell_type": "code",
   "execution_count": null,
   "id": "3b08d713-4b9a-4cef-af6b-4949b2672f18",
   "metadata": {},
   "outputs": [],
   "source": [
    "# Helper code to compute the R2_score of your best model\n",
    "model = KNeighborsRegressor(n_neighbors=best_model[0])\n",
    "model.fit(x_train,y_train)\n",
    "y_pred_test = model.predict(x_test)\n",
    "\n",
    "# Print the R2 score of the model\n",
    "print(f\"The R2 score for your model is {r2_score(y_test, y_pred_test)}\")"
   ]
  },
  {
   "cell_type": "code",
   "execution_count": null,
   "id": "4ab70ba3-0aa3-4fec-9c21-27166bff97e1",
   "metadata": {},
   "outputs": [],
   "source": [
    "⏸ After observing the R2R2 value, how would you now classify your model?\n",
    "A. Good\n",
    "B. Satisfactory\n",
    "C. Bad"
   ]
  },
  {
   "cell_type": "code",
   "execution_count": null,
   "id": "528e7cac-fdfc-4c17-b64b-845b3fafafe3",
   "metadata": {},
   "outputs": [],
   "source": [
    "### edTest(test_chow2) ###\n",
    "# Submit an answer choice as a string below (eg. if you choose option A, put 'A')\n",
    "answer2 = 'B'"
   ]
  },
  {
   "cell_type": "code",
   "execution_count": 5,
   "id": "e3bba8d5-5db6-499f-8337-afd609ccf122",
   "metadata": {},
   "outputs": [
    {
     "data": {
      "text/plain": [
       "array([ 1.  ,  8.25, 15.5 , 22.75, 30.  ])"
      ]
     },
     "execution_count": 5,
     "metadata": {},
     "output_type": "execute_result"
    }
   ],
   "source": [
    "np.linspace(1, 30, num=5)"
   ]
  }
 ],
 "metadata": {
  "kernelspec": {
   "display_name": "Python 3 (ipykernel)",
   "language": "python",
   "name": "python3"
  },
  "language_info": {
   "codemirror_mode": {
    "name": "ipython",
    "version": 3
   },
   "file_extension": ".py",
   "mimetype": "text/x-python",
   "name": "python",
   "nbconvert_exporter": "python",
   "pygments_lexer": "ipython3",
   "version": "3.10.12"
  }
 },
 "nbformat": 4,
 "nbformat_minor": 5
}
